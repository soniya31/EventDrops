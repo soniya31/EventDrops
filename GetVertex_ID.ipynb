    {
 "cells": [
  {
   "cell_type": "code",
   "execution_count": 1,
   "metadata": {},
   "outputs": [
    {
     "name": "stdout",
     "output_type": "stream",
     "text": [

     ]
    }
   ],
   "source": [
    "import json\n",
    "jsonFile = open('mbi.json', 'r')\n",
    "values = json.load(jsonFile)\n",
    "jsonFile.close()\n",
    "for criteria in values['RESULT']:\n",
    "      print(criteria['attributes']['identifier'])\n"
   ]
  },
  {
   "cell_type": "code",
   "execution_count": 10,
   "metadata": {},
   "outputs": [],
   "source": [
    "import json \n",
    "import csv \n",
    "  \n",
    "  \n",
    "# Opening JSON file and loading the data \n",
    "# into the variable data \n",
    "with open('ERHospitalization.json') as json_file: \n",
    "    data = json.load(json_file) \n",
    "  \n",
    "\n",
    "  \n",
    "# now we will open a file for writing \n",
    "data_file = open('data_file1.csv', 'w') \n",
    "  \n",
    "# create the csv writer object \n",
    "csv_writer = csv.writer(data_file) \n",
    "  \n",
    "# Counter variable used for writing  \n",
    "# headers to the CSV file \n",
    "count = 0\n",
    "  \n",
    "for emp in data['INDV']: \n",
    "    if count == 0: \n",
    "  \n",
    "        # Writing headers of CSV file \n",
    "        header = emp['attributes'].keys() \n",
    "        csv_writer.writerow(header) \n",
    "        count += 1\n",
    "  \n",
    "    # Writing data of CSV file \n",
    "    csv_writer.writerow(emp['attributes'].values()) \n",
    "  \n",
    "data_file.close() \n"
   ]
  },
  {
   "cell_type": "code",
   "execution_count": null,
   "metadata": {},
   "outputs": [],
   "source": []
  },
  {
   "cell_type": "code",
   "execution_count": null,
   "metadata": {},
   "outputs": [],
   "source": []
  },
  {
   "cell_type": "code",
   "execution_count": null,
   "metadata": {},
   "outputs": [],
   "source": []
  },
  {
   "cell_type": "code",
   "execution_count": null,
   "metadata": {},
   "outputs": [],
   "source": []
  }
 ],
 "metadata": {
  "kernelspec": {
   "display_name": "Python 3",
   "language": "python",
   "name": "python3"
  },
  "language_info": {
   "codemirror_mode": {
    "name": "ipython",
    "version": 3
   },
   "file_extension": ".py",
   "mimetype": "text/x-python",
   "name": "python",
   "nbconvert_exporter": "python",
   "pygments_lexer": "ipython3",
   "version": "3.8.3"
  }
 },
 "nbformat": 4,
 "nbformat_minor": 4
}
